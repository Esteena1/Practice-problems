{
  "nbformat": 4,
  "nbformat_minor": 0,
  "metadata": {
    "colab": {
      "provenance": []
    },
    "kernelspec": {
      "name": "python3",
      "display_name": "Python 3"
    },
    "language_info": {
      "name": "python"
    }
  },
  "cells": [
    {
      "cell_type": "code",
      "execution_count": null,
      "metadata": {
        "colab": {
          "base_uri": "https://localhost:8080/"
        },
        "id": "q3rkJTu9iC7c",
        "outputId": "494d3a48-d216-4af4-fead-8bc4704b4f5e"
      },
      "outputs": [
        {
          "name": "stdout",
          "output_type": "stream",
          "text": [
            "Enter the radius of a circle: 3\n"
          ]
        },
        {
          "output_type": "execute_result",
          "data": {
            "text/plain": [
              "28.26"
            ]
          },
          "metadata": {},
          "execution_count": 9
        }
      ],
      "source": [
        "## 1.\n",
        "r= int(input(\"Enter the radius of a circle: \"))\n",
        "import math as m\n",
        "Area=  round(m.pi,2)*r**2\n",
        "Area\n"
      ]
    },
    {
      "cell_type": "code",
      "source": [
        "## 2.\n",
        "Name= input(\"Enter the Name: \")\n",
        "Roll_Num= int(input(\"Enter the roll number: \"))\n",
        "Mark= int(input(\"Enter the Mark: \"))\n",
        "print(\"Name: \",Name)\n",
        "print(\"Roll No: \",Roll_Num)\n",
        "print(\"Mark: \",Mark)"
      ],
      "metadata": {
        "colab": {
          "base_uri": "https://localhost:8080/"
        },
        "id": "H8Lrwip_kJiV",
        "outputId": "7866ec03-121a-4544-ffd7-38cdaf63b2cc"
      },
      "execution_count": null,
      "outputs": [
        {
          "output_type": "stream",
          "name": "stdout",
          "text": [
            "Enter the Name: Aisha\n",
            "Enter the roll number: 10\n",
            "Enter the Mark: 89\n",
            "Name:  Aisha\n",
            "Roll No:  10\n",
            "Mark:  89\n"
          ]
        }
      ]
    },
    {
      "cell_type": "code",
      "source": [
        "## 3.\n",
        "l=[12,3,47,10]\n",
        "l\n",
        "print(max(l),\"is the largest number\")"
      ],
      "metadata": {
        "colab": {
          "base_uri": "https://localhost:8080/"
        },
        "id": "V0eR_QqClYZW",
        "outputId": "33b9ab65-bb3c-4b0b-87f6-5b0544b7f73d"
      },
      "execution_count": null,
      "outputs": [
        {
          "output_type": "stream",
          "name": "stdout",
          "text": [
            "47 is the largest number\n"
          ]
        }
      ]
    },
    {
      "cell_type": "code",
      "source": [
        "## 4.\n",
        "\n",
        "e=range(1,11)\n",
        "e\n",
        "for i in e:\n",
        "  print (\"Current number\", i ,\"+ Previous Number\" ,i-1,\"=\" ,i+(i-1))"
      ],
      "metadata": {
        "colab": {
          "base_uri": "https://localhost:8080/"
        },
        "id": "Wt2pdcsHl0EH",
        "outputId": "15be925e-86cc-4d77-d715-2519369eb86a"
      },
      "execution_count": null,
      "outputs": [
        {
          "output_type": "stream",
          "name": "stdout",
          "text": [
            "Current number 1 + Previous Number 0 = 1\n",
            "Current number 2 + Previous Number 1 = 3\n",
            "Current number 3 + Previous Number 2 = 5\n",
            "Current number 4 + Previous Number 3 = 7\n",
            "Current number 5 + Previous Number 4 = 9\n",
            "Current number 6 + Previous Number 5 = 11\n",
            "Current number 7 + Previous Number 6 = 13\n",
            "Current number 8 + Previous Number 7 = 15\n",
            "Current number 9 + Previous Number 8 = 17\n",
            "Current number 10 + Previous Number 9 = 19\n"
          ]
        }
      ]
    },
    {
      "cell_type": "code",
      "source": [
        "## 5.\n",
        "a=[10,20,33,46,55]\n",
        "a\n",
        "for i in a:\n",
        "  if i % 5 == 0:\n",
        "    print(i)"
      ],
      "metadata": {
        "colab": {
          "base_uri": "https://localhost:8080/"
        },
        "id": "h8BSfyE_qM7e",
        "outputId": "f7248be7-0ffa-4a54-dfcb-cea4e493faa4"
      },
      "execution_count": null,
      "outputs": [
        {
          "output_type": "stream",
          "name": "stdout",
          "text": [
            "10\n",
            "20\n",
            "55\n"
          ]
        }
      ]
    },
    {
      "cell_type": "code",
      "source": [
        "## 6.\n",
        "num= int(input(\"Enter any number:\"))\n",
        "# define a flag variable\n",
        "flag = False\n",
        "\n",
        "if num == 1:\n",
        "    print(num, \"is not a prime number\")\n",
        "elif num > 1:\n",
        "    # check for factors\n",
        "    for i in range(2, num):\n",
        "        if (num % i) == 0:\n",
        "            # if factor is found, set flag to True\n",
        "            flag = True\n",
        "    # check if flag is True\n",
        "    if flag:\n",
        "        print(num, \"is not a prime number\")\n",
        "    else:\n",
        "        print(num, \"is a prime number\")"
      ],
      "metadata": {
        "colab": {
          "base_uri": "https://localhost:8080/"
        },
        "id": "3wcW_wO0qrmP",
        "outputId": "6f936fa8-f32c-451c-a675-9cc153e7ded2"
      },
      "execution_count": null,
      "outputs": [
        {
          "output_type": "stream",
          "name": "stdout",
          "text": [
            "Enter any number:6\n",
            "6 is not a prime number\n"
          ]
        }
      ]
    },
    {
      "cell_type": "code",
      "source": [
        "## 7.\n",
        "x=[10,40,30,70]\n",
        "rev=reversed[x]\n",
        "for i in rev:\n",
        "  print([i])"
      ],
      "metadata": {
        "colab": {
          "base_uri": "https://localhost:8080/",
          "height": 245
        },
        "id": "gsaSwpkTvBrX",
        "outputId": "59e66c41-2ec8-4699-a5be-9db16a597327"
      },
      "execution_count": null,
      "outputs": [
        {
          "output_type": "error",
          "ename": "TypeError",
          "evalue": "ignored",
          "traceback": [
            "\u001b[0;31m---------------------------------------------------------------------------\u001b[0m",
            "\u001b[0;31mTypeError\u001b[0m                                 Traceback (most recent call last)",
            "\u001b[0;32m<ipython-input-113-304fdc9109ca>\u001b[0m in \u001b[0;36m<cell line: 3>\u001b[0;34m()\u001b[0m\n\u001b[1;32m      1\u001b[0m \u001b[0;31m## 7.\u001b[0m\u001b[0;34m\u001b[0m\u001b[0;34m\u001b[0m\u001b[0m\n\u001b[1;32m      2\u001b[0m \u001b[0mx\u001b[0m\u001b[0;34m=\u001b[0m\u001b[0;34m[\u001b[0m\u001b[0;36m10\u001b[0m\u001b[0;34m,\u001b[0m\u001b[0;36m40\u001b[0m\u001b[0;34m,\u001b[0m\u001b[0;36m30\u001b[0m\u001b[0;34m,\u001b[0m\u001b[0;36m70\u001b[0m\u001b[0;34m]\u001b[0m\u001b[0;34m\u001b[0m\u001b[0;34m\u001b[0m\u001b[0m\n\u001b[0;32m----> 3\u001b[0;31m \u001b[0mrev\u001b[0m\u001b[0;34m=\u001b[0m\u001b[0mreversed\u001b[0m\u001b[0;34m[\u001b[0m\u001b[0mx\u001b[0m\u001b[0;34m]\u001b[0m\u001b[0;34m\u001b[0m\u001b[0;34m\u001b[0m\u001b[0m\n\u001b[0m\u001b[1;32m      4\u001b[0m \u001b[0;32mfor\u001b[0m \u001b[0mi\u001b[0m \u001b[0;32min\u001b[0m \u001b[0mrev\u001b[0m\u001b[0;34m:\u001b[0m\u001b[0;34m\u001b[0m\u001b[0;34m\u001b[0m\u001b[0m\n\u001b[1;32m      5\u001b[0m   \u001b[0mprint\u001b[0m\u001b[0;34m(\u001b[0m\u001b[0;34m[\u001b[0m\u001b[0mi\u001b[0m\u001b[0;34m]\u001b[0m\u001b[0;34m)\u001b[0m\u001b[0;34m\u001b[0m\u001b[0;34m\u001b[0m\u001b[0m\n",
            "\u001b[0;31mTypeError\u001b[0m: 'type' object is not subscriptable"
          ]
        }
      ]
    },
    {
      "cell_type": "code",
      "source": [
        "## 8.\n",
        "print('*')\n",
        "print('**')\n",
        "print('***')\n",
        "print('****')"
      ],
      "metadata": {
        "colab": {
          "base_uri": "https://localhost:8080/"
        },
        "id": "_g82mFBkwkYx",
        "outputId": "a188bbd0-bf93-4497-d89a-e4271f1c97ae"
      },
      "execution_count": null,
      "outputs": [
        {
          "output_type": "stream",
          "name": "stdout",
          "text": [
            "*\n",
            "**\n",
            "***\n",
            "****\n"
          ]
        }
      ]
    },
    {
      "cell_type": "code",
      "source": [
        "## 9.\n",
        "a=[34,12,7]\n",
        "maximum=max(a)\n",
        "print(maximum,\" is the maximum number\")"
      ],
      "metadata": {
        "colab": {
          "base_uri": "https://localhost:8080/"
        },
        "id": "U8ofHw5GwzEX",
        "outputId": "d0e34011-f0e3-4718-f50a-5de5752d9706"
      },
      "execution_count": null,
      "outputs": [
        {
          "output_type": "stream",
          "name": "stdout",
          "text": [
            "34\n"
          ]
        }
      ]
    },
    {
      "cell_type": "code",
      "source": [
        "## 10.\n",
        "\n",
        "rows = 5\n",
        "for i in range (0,rows):\n",
        "    for j in range(0, i + 1):\n",
        "        print(\"* \", end='')\n",
        "    print(\"\\r\")\n",
        "for i in range (rows, 0, -1):\n",
        "    for j in range(0, i -1):\n",
        "        print(\"* \", end='')\n",
        "    print(\"\\r\")"
      ],
      "metadata": {
        "colab": {
          "base_uri": "https://localhost:8080/"
        },
        "id": "yv109Sj7xEhj",
        "outputId": "7b4639d0-b435-4c1b-aeff-056653143448"
      },
      "execution_count": null,
      "outputs": [
        {
          "output_type": "stream",
          "name": "stdout",
          "text": [
            "* \r\n",
            "* * \r\n",
            "* * * \r\n",
            "* * * * \r\n",
            "* * * * * \r\n",
            "* * * * \r\n",
            "* * * \r\n",
            "* * \r\n",
            "* \r\n",
            "\r\n"
          ]
        }
      ]
    },
    {
      "cell_type": "code",
      "source": [],
      "metadata": {
        "id": "zwFVchOAxEZy"
      },
      "execution_count": null,
      "outputs": []
    }
  ]
}